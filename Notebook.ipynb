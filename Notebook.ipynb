{
 "cells": [
  {
   "cell_type": "markdown",
   "id": "da66f2c1-4603-4314-8268-999fb30b0589",
   "metadata": {
    "tags": []
   },
   "source": [
    "Notebook made for completing our assignment\n"
   ]
  },
  {
   "cell_type": "markdown",
   "id": "c504a1da-6eaf-4726-8e10-14ecc2e37b1d",
   "metadata": {},
   "source": [
    "# Project Proposal"
   ]
  },
  {
   "cell_type": "markdown",
   "id": "3dbeb988-8a52-41ac-b4e7-3bbd8136ce25",
   "metadata": {},
   "source": [
    "### Introduction"
   ]
  },
  {
   "cell_type": "markdown",
   "id": "6c70bdcb-eb4f-437f-9589-1b44bb89fe03",
   "metadata": {},
   "source": [
    "Diabetes is a metabolic disease disallowing the use or creation (depending on the type of diabetes) of insulin. This disease impedes various metabolic functions and can result in fatal consequences if left untreated. It is therefore imperative for strong predictive measures to be implemented to ensure early identification of the disease. For this reason, our project hopes to answer the predictive question of “how do variables such as plasma glucose concentration, blood pressure, and BMI predict whether an individual has Diabetes or not?” \n",
    "\n",
    "\n",
    "The dataset we will be using to answer this question is the Pima Indians Diabetes Dataset that was created through data collected by the National Institute of Diabetes and Digestive and Kidney Diseases. This dataset has been constrained to only women of at least 21 years of age and of Pima Indian heritage with the goal of isolating the dataset from as many confounding variables as possible. It contains various medical predictors of diabetes (including skin thickness, glucose concentration, bmi, number of pregnancies, blood pressure, insulin levels, and the diabetes pedigree function) and one boolean outcome variable.\n"
   ]
  },
  {
   "cell_type": "markdown",
   "id": "5dddb802-5b54-461e-9bfe-3d3d588b5223",
   "metadata": {},
   "source": [
    "### Preliminary exploratory data analysis"
   ]
  },
  {
   "cell_type": "code",
   "execution_count": null,
   "id": "e9edfbdd-30b5-4c8e-bb07-298a0a45aee2",
   "metadata": {},
   "outputs": [],
   "source": [
    "#Import necessary packages \n",
    "import altair as alt\n",
    "import matplotlib.pyplot as plt\n",
    "import numpy as np\n",
    "import pandas as pd\n",
    "from sklearn import set_config\n",
    "from sklearn.metrics import confusion_matrix\n",
    "from sklearn.model_selection import GridSearchCV, cross_validate\n",
    "from sklearn.neighbors import KNeighborsClassifier\n",
    "from sklearn.impute import SimpleImputer\n",
    "from sklearn.preprocessing import StandardScaler\n",
    "from sklearn.compose import make_column_transformer"
   ]
  },
  {
   "cell_type": "code",
   "execution_count": null,
   "id": "1a3fe78e-95b2-47c1-a279-d62a237dba54",
   "metadata": {},
   "outputs": [],
   "source": [
    "diabetes=pd.read_csv('data/diabetes.csv')"
   ]
  },
  {
   "cell_type": "code",
   "execution_count": null,
   "id": "ac63477c-2ab8-4060-87f7-fb919f69e58b",
   "metadata": {},
   "outputs": [],
   "source": [
    "#preview dataset\n",
    "diabetes.head()"
   ]
  },
  {
   "cell_type": "code",
   "execution_count": null,
   "id": "bb431d00-72bd-4dd5-8085-6ec6a5994724",
   "metadata": {},
   "outputs": [],
   "source": [
    "#Changing numerical into categorical for diagnosis\n",
    "diabetes[\"Diagnosis\"] = diabetes[\"Outcome\"].replace({\n",
    "    1 : \"diabetes\",\n",
    "    0 : \"none\"\n",
    "})\n",
    "diabetes=diabetes.drop('Outcome', axis=1)\n",
    "diabetes"
   ]
  },
  {
   "cell_type": "code",
   "execution_count": null,
   "id": "38f4789c-6557-4d98-9a22-67948d9bb33b",
   "metadata": {},
   "outputs": [],
   "source": [
    "#Checking for missing values in each column. The dataset uses 0 in columns 'Skin Thickness', 'BMI', 'Blood Pressure', 'Glucose' and 'Insulin' for a missing observation\n",
    "(diabetes == 0).astype(int).sum(axis=0)"
   ]
  },
  {
   "cell_type": "markdown",
   "id": "9f66f524-c13c-4bb3-b838-ff6edecae6e2",
   "metadata": {},
   "source": [
    "Note:\r\n",
    "There is a lot of missing data, especially in the insulin and skin thickness columns. "
   ]
  },
  {
   "cell_type": "code",
   "execution_count": null,
   "id": "224cf041-3836-473b-9519-0376673c739e",
   "metadata": {},
   "outputs": [],
   "source": [
    "#Replacing zeroes in these columns with NaN so that we can use imputing function\n",
    "cols = [\"BloodPressure\",\"Insulin\",\"BMI\",\"Glucose\",\"SkinThickness\"]\n",
    "diabetes[cols] = diabetes[cols].replace({\n",
    "    0 : np.nan})\n",
    "diabetes"
   ]
  },
  {
   "cell_type": "code",
   "execution_count": null,
   "id": "5b35864a-2d12-4652-98fa-9b814d3b003a",
   "metadata": {},
   "outputs": [],
   "source": [
    "#Splitting into training and testing data\n",
    "\n",
    "from sklearn.model_selection import train_test_split\n",
    "\n",
    "#use stratify to make sure there is the same proportion of diagnoses throughout the testing and training set\n",
    "\n",
    "diabetes_train, diabetes_test = train_test_split(\n",
    "    diabetes, train_size=0.75, stratify=diabetes[\"Diagnosis\"]\n",
    ")"
   ]
  },
  {
   "cell_type": "code",
   "execution_count": null,
   "id": "6e2bb5a8-9a81-44d4-9d2f-7eb0adc92071",
   "metadata": {},
   "outputs": [],
   "source": [
    "#Choosing our predictor variables\n",
    "\n",
    "predictor_cols=[\"BloodPressure\",\"Glucose\", \"BMI\", \"Age\"]"
   ]
  },
  {
   "cell_type": "code",
   "execution_count": null,
   "id": "fb895cbe-ac8d-4d65-9b92-bba361d0d903",
   "metadata": {},
   "outputs": [],
   "source": [
    "#Table to show basic information on each column of our training dataset (number of obvs, number of NaNs)\n",
    "diabetes_train.info()"
   ]
  },
  {
   "cell_type": "code",
   "execution_count": null,
   "id": "e6ad0143-e410-46bb-a842-3bc548b29b42",
   "metadata": {},
   "outputs": [],
   "source": [
    "#Finding the mean values for the predictor variables (NaNs not included)\n",
    "diabetes_train[predictor_cols].mean(numeric_only=True)"
   ]
  },
  {
   "cell_type": "code",
   "execution_count": null,
   "id": "9f3f8ba6-6ad7-4611-886f-52baa9994841",
   "metadata": {},
   "outputs": [],
   "source": [
    "#Visualizing two of our predictor variables for the testing data set\n",
    "diabetes_plot=alt.Chart(diabetes_test).mark_point(opacity=0.5).encode(\n",
    "    x=alt.X(\"Glucose\").title(\"Glucose\"),\n",
    "    y=alt.Y(\"BMI\").title(\"Bmi\"),\n",
    "    color=alt.Color(\"Diagnosis\").title(\"Diagnosis\")\n",
    ")\n",
    "diabetes_plot"
   ]
  },
  {
   "cell_type": "code",
   "execution_count": null,
   "id": "cafe454e-e7ec-44ba-8b27-be3e6272cd80",
   "metadata": {},
   "outputs": [],
   "source": [
    "#Visualizing two more of our predictor variables for the testing data set\n",
    "diabetes_plot2=alt.Chart(diabetes_test).mark_point(opacity=0.5).encode(\n",
    "    x=alt.X(\"BloodPressure\").title(\"Blood Pressure\"),\n",
    "    y=alt.Y(\"Age\").title(\"Age\"),\n",
    "    color=alt.Color(\"Diagnosis\").title(\"Diagnosis\")\n",
    ")\n",
    "diabetes_plot2"
   ]
  },
  {
   "cell_type": "markdown",
   "id": "cb3d6a48-f2a8-4d58-b567-e773aad4e871",
   "metadata": {},
   "source": [
    "### Methods"
   ]
  },
  {
   "cell_type": "markdown",
   "id": "b4924a05-f064-49d8-aaa9-ab5863e630f6",
   "metadata": {},
   "source": [
    "In our data analysis, we have chosen to use **scikit-learn's k-nearest neighbours (KNN) classification** algorithm as a pivotal component of our predictive modelling strategy. Our initial steps involve loading and exploring the Pima Indians Diabetes Dataset using pandas, where we will address any **missing values** or data cleaning requirements using a **preprocessor**. \n",
    "\n",
    "\n",
    "To guide our **variable selection**, we will employ a preliminary analysis, utilizing data **visualizations** and **correlation matrices**. These visualizations will assist in identifying patterns, relationships, and potential predictors that may significantly contribute to diabetes prediction. For example, to compare **blood pressure** between individuals with and without diabetes, we will use **boxplots**. These visualizations will display the distribution of blood pressure values for each group, allowing for a quick comparison of central tendency and spread. The boxplots will help identify potential differences in blood pressure that may be indicative of its relevance as a predictive variable. \n",
    "\n",
    "\n",
    "Subsequently, we will split the dataset into training and testing sets and train the KNN classifier using the training data. **Model evaluation** will be conducted using metrics such as **accuracy score** on the testing set. By adopting this approach, we aim to build a robust and effective model for early identification of diabetes in Pima Indian women, employing the strengths of the KNN algorithm in the classification task.\n"
   ]
  },
  {
   "cell_type": "markdown",
   "id": "fb379d83-705a-4245-bf34-ae8cc610bbd8",
   "metadata": {},
   "source": [
    "### Expected outcomes and significance"
   ]
  },
  {
   "cell_type": "markdown",
   "id": "a3bd3684-e731-4d78-86c6-4176b930b9c6",
   "metadata": {},
   "source": [
    "Need to be finalized"
   ]
  }
 ],
 "metadata": {
  "kernelspec": {
   "display_name": "Python 3 (ipykernel)",
   "language": "python",
   "name": "python3"
  },
  "language_info": {
   "codemirror_mode": {
    "name": "ipython",
    "version": 3
   },
   "file_extension": ".py",
   "mimetype": "text/x-python",
   "name": "python",
   "nbconvert_exporter": "python",
   "pygments_lexer": "ipython3",
   "version": "3.11.6"
  }
 },
 "nbformat": 4,
 "nbformat_minor": 5
}
