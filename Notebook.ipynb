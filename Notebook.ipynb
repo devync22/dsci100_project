{
 "cells": [
  {
   "cell_type": "markdown",
   "id": "da66f2c1-4603-4314-8268-999fb30b0589",
   "metadata": {
    "tags": []
   },
   "source": [
    "Notebook made for completing our assignment\n"
   ]
  },
  {
   "cell_type": "code",
   "execution_count": null,
   "id": "971d4beb-3521-48d3-930d-4015c189ea70",
   "metadata": {},
   "outputs": [],
   "source": []
  }
 ],
 "metadata": {
  "kernelspec": {
   "display_name": "Python 3 (ipykernel)",
   "language": "python",
   "name": "python3"
  },
  "language_info": {
   "codemirror_mode": {
    "name": "ipython",
    "version": 3
   },
   "file_extension": ".py",
   "mimetype": "text/x-python",
   "name": "python",
   "nbconvert_exporter": "python",
   "pygments_lexer": "ipython3",
   "version": "3.10.8"
  }
 },
 "nbformat": 4,
 "nbformat_minor": 5
}
