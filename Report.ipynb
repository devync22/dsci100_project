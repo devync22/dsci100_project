{
 "cells": [
  {
   "cell_type": "markdown",
   "id": "da66f2c1-4603-4314-8268-999fb30b0589",
   "metadata": {
    "tags": []
   },
   "source": [
    "# Predictive Analysis of Diabetes Risk Factors\n"
   ]
  },
  {
   "cell_type": "markdown",
   "id": "de1e9989-ea79-4bde-a238-c29cb9ac8b88",
   "metadata": {},
   "source": [
    "## Introduction: \n",
    "\n",
    "**Diabetes** is a metabolic disease disallowing the use or creation (depending on the type of diabetes) of insulin. This disease impedes various metabolic functions and can result in fatal consequences if left untreated. It is therefore imperative for strong predictive measures to be implemented to ensure early identification of the disease. For this reason, our project hopes to answer the predictive question of **“How do variables such as plasma glucose concentration, blood pressure, and BMI predict whether an individual has Diabetes or not?”**\n",
    "    \n",
    "The dataset we used to answer this question is the **Pima Indians Diabetes Dataset** which was created through data collected by the National Institute of Diabetes and Digestive and Kidney Diseases. This dataset has been constrained to only women of at least 21 years of age and of Pima Indian heritage with the goal of isolating the dataset from as many confounding variables as possible. It contains various medical predictors of diabetes (including skin thickness, glucose concentration, BMI, number of pregnancies, blood pressure, insulin levels, and the diabetes pedigree function) and one boolean outcome variable.\n"
   ]
  },
  {
   "cell_type": "markdown",
   "id": "8c7eeec5-aff4-403e-ac76-984472aa04c7",
   "metadata": {},
   "source": [
    "## Method:\n",
    "\n",
    "In our data analysis, we used scikit-learn's **k-nearest neighbours (KNN) classification** algorithm as a pivotal component of our predictive modelling strategy. Our initial steps involved loading and exploring the Pima Indians Diabetes Dataset using pandas, where we addressed any missing values or data cleaning requirements using a preprocessor. \n",
    "\n",
    "To guide our **variable selection**, we employed a **preliminary analysis**, utilizing data visualizations and **correlation matrices**. These visualizations assisted in identifying patterns, relationships, and potential predictors that may significantly contribute to diabetes prediction. For example, to compare blood pressure between individuals with and without diabetes, we used **boxplots**. These visualizations displayed the distribution of blood pressure values for each group, allowing for a quick comparison of central tendency and spread. The boxplots helped identify potential differences in blood pressure that may be indicative of its relevance as a predictive variable. \n",
    "\n",
    "Subsequently, we split the dataset into training and testing sets and trained the KNN classifier using the training data. **Model evaluations** were also conducted using metrics such as accuracy scores on the testing set. By adopting this approach, we built a robust and effective model for early identification of diabetes in Pima Indian women, employing the strengths of the KNN algorithm in the classification task..\r\n"
   ]
  },
  {
   "cell_type": "code",
   "execution_count": null,
   "id": "971d4beb-3521-48d3-930d-4015c189ea70",
   "metadata": {},
   "outputs": [],
   "source": [
    "#Import necessary packages \n",
    "import altair as alt\n",
    "import matplotlib.pyplot as plt\n",
    "import numpy as np\n",
    "import pandas as pd\n",
    "from sklearn import set_config\n",
    "from sklearn.metrics import confusion_matrix\n",
    "from sklearn.model_selection import GridSearchCV, cross_validate\n",
    "from sklearn.neighbors import KNeighborsClassifier\n",
    "from sklearn.impute import SimpleImputer\n",
    "from sklearn.preprocessing import StandardScaler\n",
    "from sklearn.compose import make_column_transformer\n",
    "from sklearn.pipeline import make_pipeline"
   ]
  },
  {
   "cell_type": "markdown",
   "id": "7d8e7b26-d767-4dfe-8a57-075a1f33712f",
   "metadata": {},
   "source": [
    "The first step of our analysis involved loading the data using the read_csv method:\n"
   ]
  },
  {
   "cell_type": "code",
   "execution_count": null,
   "id": "7635b21d-0f37-488c-b456-f78dbb365d78",
   "metadata": {
    "tags": []
   },
   "outputs": [],
   "source": [
    "diabetes=pd.read_csv('data/diabetes.csv')"
   ]
  },
  {
   "cell_type": "code",
   "execution_count": null,
   "id": "694e0f3e-ea0e-4383-9e5d-837024c967ca",
   "metadata": {
    "tags": []
   },
   "outputs": [],
   "source": [
    "#preview dataset\n",
    "diabetes"
   ]
  },
  {
   "cell_type": "markdown",
   "id": "d098ec13-6d7a-4982-9b08-e795a052f737",
   "metadata": {},
   "source": [
    "## Data Wrangling"
   ]
  },
  {
   "cell_type": "markdown",
   "id": "084b47d5-6fc6-42ad-8667-5ffd0ca49eaf",
   "metadata": {},
   "source": [
    "Our target variable, ‘Outcome’, was a binary numeric variable which took the value 1 for a diabetes diagnosis and 0 otherwise. So to improve clarity, we renamed the column to “Diagnosis” and changed it to a categorical variable with the values “diabetes” and “none”\n"
   ]
  },
  {
   "cell_type": "code",
   "execution_count": null,
   "id": "7f5e46ff-9d14-4114-afd8-96c4941d99a5",
   "metadata": {},
   "outputs": [],
   "source": [
    "#Changing numerical into categorical for diagnosis\n",
    "diabetes[\"Diagnosis\"] = diabetes[\"Outcome\"].replace({\n",
    "    1 : \"diabetes\",\n",
    "    0 : \"none\"\n",
    "})\n",
    "diabetes=diabetes.drop('Outcome', axis=1)\n",
    "diabetes"
   ]
  },
  {
   "cell_type": "markdown",
   "id": "0bf9bb46-15d4-4234-846f-578edecdf818",
   "metadata": {},
   "source": [
    "The next step in cleaning the data involved checking for missing values，the dataset uses 0 in columns 'Skin Thickness', 'BMI', 'Blood Pressure', 'Glucose' and 'Insulin' for a missing observation:\n"
   ]
  },
  {
   "cell_type": "code",
   "execution_count": null,
   "id": "1d6041fe-0fc8-4f91-ade3-ebb62b75751f",
   "metadata": {},
   "outputs": [],
   "source": [
    "(diabetes == 0).astype(int).sum(axis=0)"
   ]
  },
  {
   "cell_type": "markdown",
   "id": "821d772a-0e4e-4426-93da-f3ec354994cd",
   "metadata": {},
   "source": [
    "Note:\n",
    "There is a lot of missing data, especially in the insulin and skin thickness columns. "
   ]
  },
  {
   "cell_type": "markdown",
   "id": "bdafd3da-6017-499e-b58c-c2fcf705b770",
   "metadata": {},
   "source": [
    " Since the insulin and skin thickness columns were missing a lot of values, we chose to impute these values instead. To do so, we first replaced all the missing values (represented by 0 in the dataset) with “NaN”:\n"
   ]
  },
  {
   "cell_type": "code",
   "execution_count": null,
   "id": "d981bf7a-f807-477e-bd4a-d072d7ebdfd0",
   "metadata": {},
   "outputs": [],
   "source": [
    "#Replacing zeroes with NaN\n",
    "cols = [\"BloodPressure\",\"Insulin\",\"BMI\",\"Glucose\",\"SkinThickness\"]\n",
    "diabetes[cols] = diabetes[cols].replace({\n",
    "    0 : np.nan})\n",
    "diabetes"
   ]
  },
  {
   "cell_type": "markdown",
   "id": "112635ba-12d0-49ca-9ae1-e4e742c2557c",
   "metadata": {},
   "source": [
    "Then, we made the preprocessor which passes the columns with missing values through the SimpleImputer() transformer:\n"
   ]
  },
  {
   "cell_type": "code",
   "execution_count": null,
   "id": "bab40d65-dee0-462d-9772-6159e55e2d75",
   "metadata": {},
   "outputs": [],
   "source": [
    "from sklearn.impute import SimpleImputer\n",
    "\n",
    "preprocessor = make_column_transformer(\n",
    "    (SimpleImputer(), [\"Pregnancies\", \"Glucose\", \"BloodPressure\",\"SkinThickness\",\"Insulin\",\"BMI\"]),\n",
    "    verbose_feature_names_out=False,\n",
    "    remainder='passthrough'\n",
    ")\n",
    "preprocessor"
   ]
  },
  {
   "cell_type": "markdown",
   "id": "32f4551f-cb43-4476-a896-47d4befa0411",
   "metadata": {},
   "source": [
    "After the missing values had been handled and the data had been cleaned, we fit the dataframe to our preprocessor:\n"
   ]
  },
  {
   "cell_type": "code",
   "execution_count": null,
   "id": "d4afa59c-6469-4983-b06c-bc9d33106018",
   "metadata": {},
   "outputs": [],
   "source": [
    "preprocessor.fit(diabetes)\n",
    "imputed_diabetes = pd.DataFrame(preprocessor.transform(diabetes))\n",
    "imputed_diabetes"
   ]
  },
  {
   "cell_type": "markdown",
   "id": "583b7923-ebba-4b94-a196-f9b3d93b1c1c",
   "metadata": {},
   "source": [
    "The resultant dataframe had numerical column names, so we rename them to avoid confusion and improve presentability:\n"
   ]
  },
  {
   "cell_type": "code",
   "execution_count": null,
   "id": "df4cbc84-2c46-45a7-a3de-e5a668a8443f",
   "metadata": {},
   "outputs": [],
   "source": [
    "clean_diabetes=imputed_diabetes.rename(columns={0:'Pregnancies',1:\"Glucose\",2:\"BloodPressure\",3:\"SkinThickness\",4:\"Insulin\",5:\"BMI\",6:'DiabetesPedigreeFunction',7:\"Age\",8:\"Diagnosis\"})\n",
    "clean_diabetes"
   ]
  },
  {
   "cell_type": "markdown",
   "id": "c7ddc549-2de9-4cde-b8d8-69fa280c2332",
   "metadata": {},
   "source": [
    "Next, we split our dataset, using 75% for training and 25% for testing. To ensure that both datasets contain equivalent proportions of diagnoses, we used the stratify argument as well:\n"
   ]
  },
  {
   "cell_type": "code",
   "execution_count": null,
   "id": "3d901601-0aea-497b-9356-f336ad0ecf64",
   "metadata": {},
   "outputs": [],
   "source": [
    "#Splitting into training and testing data\n",
    "\n",
    "from sklearn.model_selection import train_test_split\n",
    "\n",
    "# set the seed\n",
    "np.random.seed(10)\n",
    "\n",
    "#use stratify to make sure there is the same proportion of diagnoses throughout the testing and training set\n",
    "\n",
    "diabetes_train, diabetes_test = train_test_split(\n",
    "    clean_diabetes, train_size=0.75, stratify=diabetes[\"Diagnosis\"]\n",
    ")"
   ]
  },
  {
   "cell_type": "markdown",
   "id": "11ead3d4-10d9-4022-bb40-d2b5d4b48b0e",
   "metadata": {},
   "source": [
    "## Preliminary exploratory data analysis"
   ]
  },
  {
   "cell_type": "markdown",
   "id": "48a11690-2665-4bf6-8a1d-9cab68c385b6",
   "metadata": {},
   "source": [
    "To explore any potential correlations between the variables, we created **pairplots**:\n"
   ]
  },
  {
   "cell_type": "code",
   "execution_count": null,
   "id": "268e0da7-325d-43c5-b322-4349011d919c",
   "metadata": {},
   "outputs": [],
   "source": [
    "#Can comment out\n",
    "\n",
    "columns_to_plot=[\"Pregnancies\",\"Glucose\",\"BloodPressure\",\"SkinThickness\",\"Insulin\",\"BMI\",\"DiabetesPedigreeFunction\",\"Age\"]\n",
    "diabetes_pairplot = alt.Chart(diabetes_train).mark_point().encode(\n",
    "    alt.X(alt.repeat(\"row\"), type=\"quantitative\"),\n",
    "    alt.Y(alt.repeat(\"column\"), type=\"quantitative\"),\n",
    "    #color=alt.Color(\"Diagnosis\").title(\"Diagnosis\")\n",
    ").properties(\n",
    "    width=200,\n",
    "    height=200\n",
    ").repeat(\n",
    "    column=columns_to_plot,\n",
    "    row=columns_to_plot\n",
    ")\n",
    "diabetes_pairplot"
   ]
  },
  {
   "cell_type": "markdown",
   "id": "80ac5342-1318-4a53-873f-33a8093cdfc4",
   "metadata": {},
   "source": [
    "To further explore the relationship of each variable with the outcome variable, \"Diagnosis\", we created a series of **boxplots** aiming to indentify potential variables with strong explanatory power. \n"
   ]
  },
  {
   "cell_type": "code",
   "execution_count": null,
   "id": "0ad7f09b-44e7-493d-9c9b-e9f150b9d2be",
   "metadata": {},
   "outputs": [],
   "source": [
    "#Evaluating variables \n",
    "\n",
    "diabetes_box=alt.Chart(diabetes_train).mark_boxplot().encode(\n",
    "    alt.X(\"Diagnosis\"),\n",
    "    alt.Y(alt.repeat(\"row\"), type=\"quantitative\"),\n",
    ").properties(\n",
    "    width=200,\n",
    "    height=200\n",
    ").repeat(\n",
    "    row=columns_to_plot\n",
    ")\n",
    "diabetes_box"
   ]
  },
  {
   "cell_type": "markdown",
   "id": "279b2fd9-0a95-4d4c-a51b-15441d8bd2a2",
   "metadata": {},
   "source": [
    "From the boxplots, we found that BMI and Glucose had the most stark contrast between their interquartile ranges for patients diagnosed with diabetes versus those who were not diagnosed with diabetes. Hence, we chose these as our predictor variables:\n"
   ]
  },
  {
   "cell_type": "code",
   "execution_count": null,
   "id": "581e8f91-d216-4958-954f-47140c7ab656",
   "metadata": {},
   "outputs": [],
   "source": [
    "#Choosing our predictor variables\n",
    "\n",
    "predictor_cols=[\"Glucose\", \"BMI\"]"
   ]
  },
  {
   "cell_type": "code",
   "execution_count": null,
   "id": "b2f20423-105c-4368-9c6b-888ce315a791",
   "metadata": {},
   "outputs": [],
   "source": [
    "#Finding the mean values for the predictor variables (NaNs not included)\n",
    "diabetes_train[predictor_cols].mean()"
   ]
  },
  {
   "cell_type": "markdown",
   "id": "8e40ec95-1793-494b-a48d-61afca43ece7",
   "metadata": {},
   "source": [
    "Next, we visualized the two variables using a scatterplot. Here we clearly see that diabetes patients tend to have a **higher BMI and glucose levels**\n"
   ]
  },
  {
   "cell_type": "code",
   "execution_count": null,
   "id": "4b633253-37e3-4a3f-bdb8-a19ccbbaa8a1",
   "metadata": {},
   "outputs": [],
   "source": [
    "#Visualizing two of our predictor variables for the testing data set\n",
    "diabetes_plot=alt.Chart(diabetes_train).mark_point(opacity=0.5).encode(\n",
    "    x=alt.X(\"Glucose\").title(\"Glucose\"),\n",
    "    y=alt.Y(\"BMI\").title(\"Bmi\"),\n",
    "    color=alt.Color(\"Diagnosis\").title(\"Diagnosis\")\n",
    ")\n",
    "diabetes_plot"
   ]
  },
  {
   "cell_type": "markdown",
   "id": "4484a5cc-da46-43b1-8e05-e063f0bdea04",
   "metadata": {},
   "source": [
    "Next we created our knn model using a K value of 3, preprocessed the data using a StandardScaler(), and combined the two using a pipeline. After that, we fitted our training dataset to the pipeline.\n"
   ]
  },
  {
   "cell_type": "code",
   "execution_count": null,
   "id": "adf94f0d-cbc3-4a8e-9fc8-e0e88ee77d44",
   "metadata": {},
   "outputs": [],
   "source": [
    "#Building our model using K=3\n",
    "\n",
    "knn_model = KNeighborsClassifier(n_neighbors=3)\n",
    "\n",
    "preprocessor_model = make_column_transformer(\n",
    "    (StandardScaler(), [\"Glucose\", \"BMI\"]),\n",
    ")\n",
    "\n",
    "X = diabetes_train[[\"Glucose\", \"BMI\"]]\n",
    "y = diabetes_train[\"Diagnosis\"]\n",
    "\n",
    "\n",
    "knn_pipeline = make_pipeline(preprocessor_model, knn_model)\n",
    "\n",
    "knn_pipeline.fit(X, y)\n",
    "\n",
    "knn_pipeline"
   ]
  },
  {
   "cell_type": "markdown",
   "id": "efb5d29e-95a0-4939-a7b5-c0d4b1bb059a",
   "metadata": {},
   "source": [
    "Next, we used our model to make predictions about the test dataset and assigned these to a column called “predicted”.\n"
   ]
  },
  {
   "cell_type": "code",
   "execution_count": null,
   "id": "662c2473-c7f3-4b83-9707-90f0f4d3f837",
   "metadata": {},
   "outputs": [],
   "source": [
    "#Showing table with results\n",
    "# diabetes_test[\"predicted\"] = knn_pipeline.predict(diabetes_test[[\"Glucose\", \"BMI\"]])\n",
    "# diabetes_test[[\"Diagnosis\", \"predicted\"]]\n",
    "\n",
    "diabetes_df=diabetes_test.assign(predicted=knn_pipeline.predict(diabetes_test[[\"Glucose\", \"BMI\"]]))\n",
    "diabetes_df[[\"Diagnosis\", \"predicted\"]]\n",
    "                                "
   ]
  },
  {
   "cell_type": "markdown",
   "id": "b25ed0e9-cd3c-4fc6-b40c-1469faab8dbf",
   "metadata": {},
   "source": [
    "To assess the **performance** of our model, we then found its accuracy, precision, and recall scores. \n"
   ]
  },
  {
   "cell_type": "code",
   "execution_count": null,
   "id": "bc16ad11-9074-4454-9c9a-38a121d883d1",
   "metadata": {},
   "outputs": [],
   "source": [
    "#Finding the score/accuracy of the model\n",
    "knn_pipeline.score(\n",
    "    diabetes_test[[\"Glucose\", \"BMI\"]],\n",
    "    diabetes_test[\"Diagnosis\"]\n",
    ")"
   ]
  },
  {
   "cell_type": "code",
   "execution_count": null,
   "id": "f4278ab3-2bf6-480c-aa15-1b3f784e2239",
   "metadata": {},
   "outputs": [],
   "source": [
    "from sklearn.metrics import recall_score, precision_score\n",
    "\n",
    "precision_score(\n",
    "    y_true=diabetes_df[\"Diagnosis\"],\n",
    "    y_pred=diabetes_df[\"predicted\"],\n",
    "    pos_label=\"none\"\n",
    ")"
   ]
  },
  {
   "cell_type": "code",
   "execution_count": null,
   "id": "6b397ea5-f0a6-4b9b-a5e2-17da73e47eb7",
   "metadata": {},
   "outputs": [],
   "source": [
    "recall_score(\n",
    "    y_true=diabetes_df[\"Diagnosis\"],\n",
    "    y_pred=diabetes_df[\"predicted\"],\n",
    "    pos_label=\"none\"\n",
    ")"
   ]
  },
  {
   "cell_type": "markdown",
   "id": "87a39a10-e2fa-46d7-b7a4-59f1288c073e",
   "metadata": {},
   "source": [
    "Another measure we utilized was a **confusion matrix**:\n"
   ]
  },
  {
   "cell_type": "code",
   "execution_count": null,
   "id": "253b57bd-1c3a-411c-9483-897a6595e3aa",
   "metadata": {},
   "outputs": [],
   "source": [
    "#Confusion Matrix\n",
    "pd.crosstab(\n",
    "    diabetes_df[\"Diagnosis\"],\n",
    "    diabetes_df[\"predicted\"]\n",
    ")"
   ]
  },
  {
   "cell_type": "markdown",
   "id": "b5cdad52-3f4b-48db-ae75-ce75c9d2f5fc",
   "metadata": {},
   "source": [
    "To cross validate our data, we split our training data in a **75 % to 25%** split once again and fit it to our model. The accuracy score after testing the model on the validation data was about **69%**\n"
   ]
  },
  {
   "cell_type": "code",
   "execution_count": null,
   "id": "a628c259-35dc-42cd-9003-2916eab842a2",
   "metadata": {},
   "outputs": [],
   "source": [
    "#Performing Cross Validation\n",
    "\n",
    "# create the 25/75 split of the *training data* into sub-training and validation\n",
    "diabetes_subtrain, diabetes_validation = train_test_split(\n",
    "    diabetes_train, train_size=0.75, stratify=diabetes_train[\"Diagnosis\"]\n",
    ")\n",
    "\n",
    "# fit the model on the sub-training data\n",
    "knn_cv = KNeighborsClassifier(n_neighbors=3)\n",
    "X_cv = diabetes_subtrain[[\"Glucose\", \"BMI\"]]\n",
    "y_cv = diabetes_subtrain[\"Diagnosis\"]\n",
    "knn_pipeline_cv = make_pipeline(preprocessor_model, knn_cv)\n",
    "knn_pipeline_cv.fit(X_cv, y_cv)\n",
    "\n",
    "# compute the score on validation data\n",
    "acc = knn_pipeline_cv.score(\n",
    "    diabetes_validation[[\"Glucose\", \"BMI\"]],\n",
    "    diabetes_validation[\"Diagnosis\"]\n",
    ")\n",
    "acc"
   ]
  },
  {
   "cell_type": "markdown",
   "id": "d66e08f4-d88e-4a24-bcff-454daae2cdc7",
   "metadata": {},
   "source": [
    "To find the K value which maximizes the accuracy of our model, we performed a **5 fold grid search**. From the graph, we can see that the model yields the highest accuracy at **k=7**.\n"
   ]
  },
  {
   "cell_type": "code",
   "execution_count": null,
   "id": "37d987f0-f0fb-4336-8e54-040bc42d9cc3",
   "metadata": {},
   "outputs": [],
   "source": [
    "#Checking the best # of neighbors\n",
    "\n",
    "\n",
    "knn = KNeighborsClassifier()\n",
    "diabetes_preprocessor = make_column_transformer(\n",
    "    (StandardScaler(), predictor_cols),\n",
    ")\n",
    "diabetes_tune_pipe = make_pipeline(diabetes_preprocessor, knn)"
   ]
  },
  {
   "cell_type": "code",
   "execution_count": null,
   "id": "6af14ede-112b-4110-846b-4ff301df8335",
   "metadata": {},
   "outputs": [],
   "source": [
    "#Performing a 5-fold grid search\n",
    "parameter_grid = {\n",
    "    \"kneighborsclassifier__n_neighbors\": range(1, 20, 1),\n",
    "}\n",
    "diabetes_tune_grid = GridSearchCV(\n",
    "    estimator=diabetes_tune_pipe,\n",
    "    param_grid=parameter_grid,\n",
    "    cv=5\n",
    ")\n",
    "\n",
    "diabetes_tune_grid.fit(\n",
    "    diabetes_train[[\"Glucose\", \"BMI\"]],\n",
    "    diabetes_train[\"Diagnosis\"]\n",
    ")\n",
    "accuracies_grid = pd.DataFrame(diabetes_tune_grid.cv_results_)\n",
    "\n",
    "accuracies_grid[\"sem_test_score\"] = accuracies_grid[\"std_test_score\"] / 10**(1/2)\n",
    "accuracies_grid = (\n",
    "    accuracies_grid[[\n",
    "        \"param_kneighborsclassifier__n_neighbors\",\n",
    "        \"mean_test_score\",\n",
    "        \"sem_test_score\"\n",
    "    ]]\n",
    "    .rename(columns={\"param_kneighborsclassifier__n_neighbors\": \"n_neighbors\"})\n",
    ")\n",
    "accuracy_vs_k = alt.Chart(accuracies_grid).mark_line(point=True).encode(\n",
    "    x=alt.X(\"n_neighbors\").title(\"Neighbors\"),\n",
    "    y=alt.Y(\"mean_test_score\")\n",
    "        .scale(zero=False)\n",
    "        .title(\"Accuracy estimate\")\n",
    ")\n",
    "\n",
    "accuracy_vs_k"
   ]
  },
  {
   "cell_type": "code",
   "execution_count": null,
   "id": "c35f3960-a1d1-4611-aae8-a44cc9ec0820",
   "metadata": {},
   "outputs": [],
   "source": [
    "#Best parameter\n",
    "diabetes_tune_grid.best_params_"
   ]
  },
  {
   "cell_type": "markdown",
   "id": "e4e19461-a0d2-4fd1-9bae-af5cd9ee0d3a",
   "metadata": {},
   "source": [
    "So we retrain the model with **k=7** and use the retrained model for our predictions. \n"
   ]
  },
  {
   "cell_type": "code",
   "execution_count": null,
   "id": "ef20f787-db44-4563-b819-e24ad0404f34",
   "metadata": {},
   "outputs": [],
   "source": [
    "#Trying with the new number of neighbors\n",
    "\n",
    "knn_spec = KNeighborsClassifier(n_neighbors=7)\n",
    "\n",
    "preprocessor_spec = make_column_transformer(\n",
    "    (StandardScaler(), [\"Glucose\", \"BMI\"]),\n",
    ")\n",
    "\n",
    "X_spec = diabetes_train[[\"Glucose\", \"BMI\"]]\n",
    "y_spec = diabetes_train[\"Diagnosis\"]\n",
    "\n",
    "\n",
    "pipeline_spec = make_pipeline(preprocessor_spec, knn_spec)\n",
    "\n",
    "pipeline_spec.fit(X_spec, y_spec)\n",
    "\n",
    "pipeline_spec"
   ]
  },
  {
   "cell_type": "code",
   "execution_count": null,
   "id": "f75f3f1e-2f03-4fd7-ae87-cd85f4ef3f7f",
   "metadata": {},
   "outputs": [],
   "source": [
    "diabetes_test[\"predicted\"] = pipeline_spec.predict(diabetes_test[[\"Glucose\", \"BMI\"]])\n",
    "diabetes_test[[\"Diagnosis\", \"predicted\"]]"
   ]
  },
  {
   "cell_type": "code",
   "execution_count": null,
   "id": "42003035-d121-48f5-82e4-975558fe6ede",
   "metadata": {},
   "outputs": [],
   "source": [
    "pd.crosstab(\n",
    "    diabetes_test[\"Diagnosis\"],\n",
    "    diabetes_test[\"predicted\"]\n",
    ")"
   ]
  },
  {
   "cell_type": "markdown",
   "id": "62bc3091-3a07-4dde-9ea9-6aabe0ae5a49",
   "metadata": {},
   "source": [
    "The retrained model yields an accuracy of **78.64%**\n"
   ]
  },
  {
   "cell_type": "code",
   "execution_count": null,
   "id": "675a6a8c-5cc9-4982-8189-629969b7dceb",
   "metadata": {},
   "outputs": [],
   "source": [
    "pipeline_spec.score(\n",
    "    diabetes_test[[\"Glucose\", \"BMI\"]],\n",
    "    diabetes_test[\"Diagnosis\"]\n",
    ")"
   ]
  },
  {
   "cell_type": "markdown",
   "id": "e7399760-3cf4-4855-9276-8aff146db35c",
   "metadata": {},
   "source": [
    "## Discussion:"
   ]
  },
  {
   "cell_type": "markdown",
   "id": "46035867-1f14-41c9-935a-705d09098d55",
   "metadata": {},
   "source": [
    "## References:"
   ]
  }
 ],
 "metadata": {
  "kernelspec": {
   "display_name": "Python 3 (ipykernel)",
   "language": "python",
   "name": "python3"
  },
  "language_info": {
   "codemirror_mode": {
    "name": "ipython",
    "version": 3
   },
   "file_extension": ".py",
   "mimetype": "text/x-python",
   "name": "python",
   "nbconvert_exporter": "python",
   "pygments_lexer": "ipython3",
   "version": "3.11.6"
  }
 },
 "nbformat": 4,
 "nbformat_minor": 5
}
